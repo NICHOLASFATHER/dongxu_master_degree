{
 "cells": [
  {
   "cell_type": "code",
   "execution_count": 1,
   "metadata": {},
   "outputs": [],
   "source": [
    "import torch\n",
    "import numpy as np  "
   ]
  },
  {
   "cell_type": "code",
   "execution_count": 2,
   "metadata": {},
   "outputs": [],
   "source": [
    "torch.manual_seed(0)\n",
    "x = torch.randn(10, 4, requires_grad=True)\n",
    "W = torch.randn(4, 4, requires_grad=True)\n",
    "y = torch.randn(10, 4, requires_grad=True)"
   ]
  },
  {
   "cell_type": "code",
   "execution_count": 15,
   "metadata": {},
   "outputs": [
    {
     "name": "stdout",
     "output_type": "stream",
     "text": [
      "tensor(99.9048, grad_fn=<TraceBackward>)\n"
     ]
    }
   ],
   "source": [
    "z = torch.maximum(torch.matmul(x, W), torch.tensor(0)) - y\n",
    "f = torch.trace(torch.matmul(z.T, z))\n",
    "print(f)"
   ]
  },
  {
   "cell_type": "code",
   "execution_count": 16,
   "metadata": {},
   "outputs": [],
   "source": [
    "f.backward()"
   ]
  },
  {
   "cell_type": "code",
   "execution_count": 21,
   "metadata": {},
   "outputs": [
    {
     "name": "stdout",
     "output_type": "stream",
     "text": [
      "tensor([[ 18.2980,   2.7573,   2.3914,  -0.1974],\n",
      "        [ 11.0817,   6.6428,   2.5163, -20.3225],\n",
      "        [ -8.6662,   3.4506,  -1.8979,  -3.3608],\n",
      "        [-21.1681,  -6.6739,  -1.0693,  27.0278]])\n",
      "tensor([[  1.1002,   0.0860,   5.3377,   0.2788],\n",
      "        [  0.9583,  10.4633, -13.5234, -16.3639],\n",
      "        [ -0.8712,  -0.9272,  -0.7764,   2.0790],\n",
      "        [ -1.4504,   5.6914,   0.7613,  -0.9693],\n",
      "        [ -1.2892,  -3.4714,  -1.9788,   4.8091],\n",
      "        [ -4.0523,  -4.3127,  -3.6114,   9.6703],\n",
      "        [ -0.7312,  -0.7782,  -0.6516,   1.7449],\n",
      "        [ -0.8191,  -0.8718,  -0.7300,   1.9547],\n",
      "        [  1.0350,   2.9930,  -6.6743,  -7.5333],\n",
      "        [ -2.4616,  -2.4243,  -2.1164,   5.7128]])\n",
      "tensor([[ 2.8885e+00,  4.1639e+00,  3.4134e+00,  3.0501e+00],\n",
      "        [-1.0589e+01, -2.7045e+00, -2.1849e+00, -1.7039e-01],\n",
      "        [ 6.5523e-01, -1.5214e+00, -3.1982e+00, -1.5687e+00],\n",
      "        [-1.5009e+00, -3.8551e+00,  4.9843e-01,  1.2764e+00],\n",
      "        [-6.6077e-03, -1.0689e+00,  1.8791e+00, -4.2604e+00],\n",
      "        [ 3.8829e+00,  1.5830e+00, -4.0504e-02, -7.2968e+00],\n",
      "        [-4.3767e-01, -4.8701e+00, -1.4583e-01, -1.3166e+00],\n",
      "        [ 1.9250e+00,  6.9834e-01, -1.8429e+00, -1.4750e+00],\n",
      "        [-5.0359e+00, -9.2744e-01,  3.8436e+00, -8.0509e-01],\n",
      "        [ 2.4780e-01,  2.3296e+00, -1.7491e-01, -4.2519e+00]])\n"
     ]
    }
   ],
   "source": [
    "print(W.grad)\n",
    "print(x.grad)\n",
    "print(y.grad)"
   ]
  },
  {
   "cell_type": "code",
   "execution_count": 28,
   "metadata": {},
   "outputs": [],
   "source": [
    "def d_relu(x):\n",
    "    temp = torch.zeros_like(x)\n",
    "    temp[x>0] = 1\n",
    "    temp[x<=0] = 0\n",
    "    return temp"
   ]
  },
  {
   "cell_type": "code",
   "execution_count": 29,
   "metadata": {},
   "outputs": [
    {
     "name": "stdout",
     "output_type": "stream",
     "text": [
      "tensor([[1., 0., 0., 1.],\n",
      "        [1., 1., 0., 0.],\n",
      "        [0., 0., 0., 1.],\n",
      "        [0., 1., 1., 0.],\n",
      "        [0., 0., 1., 1.],\n",
      "        [0., 0., 0., 1.],\n",
      "        [0., 0., 0., 1.],\n",
      "        [0., 0., 0., 1.],\n",
      "        [1., 0., 0., 0.],\n",
      "        [0., 0., 1., 1.]])\n"
     ]
    }
   ],
   "source": [
    "d_re = d_relu(torch.matmul(x, W))\n",
    "print(d_re)"
   ]
  },
  {
   "cell_type": "code",
   "execution_count": 34,
   "metadata": {},
   "outputs": [
    {
     "name": "stdout",
     "output_type": "stream",
     "text": [
      "tensor([[ 18.2980,   2.7573,   2.3914,  -0.1974],\n",
      "        [ 11.0817,   6.6428,   2.5163, -20.3225],\n",
      "        [ -8.6662,   3.4506,  -1.8979,  -3.3608],\n",
      "        [-21.1681,  -6.6739,  -1.0693,  27.0278]], grad_fn=<MulBackward0>) tensor([[  1.1002,   0.0860,   5.3377,   0.2788],\n",
      "        [  0.9583,  10.4633, -13.5234, -16.3639],\n",
      "        [ -0.8712,  -0.9272,  -0.7764,   2.0790],\n",
      "        [ -1.4504,   5.6914,   0.7613,  -0.9693],\n",
      "        [ -1.2892,  -3.4714,  -1.9788,   4.8091],\n",
      "        [ -4.0523,  -4.3127,  -3.6114,   9.6703],\n",
      "        [ -0.7312,  -0.7782,  -0.6516,   1.7449],\n",
      "        [ -0.8191,  -0.8718,  -0.7300,   1.9547],\n",
      "        [  1.0350,   2.9930,  -6.6743,  -7.5333],\n",
      "        [ -2.4616,  -2.4243,  -2.1164,   5.7128]], grad_fn=<MmBackward>) tensor([[ 2.8885e+00,  4.1639e+00,  3.4134e+00,  3.0501e+00],\n",
      "        [-1.0589e+01, -2.7045e+00, -2.1849e+00, -1.7039e-01],\n",
      "        [ 6.5523e-01, -1.5214e+00, -3.1982e+00, -1.5687e+00],\n",
      "        [-1.5009e+00, -3.8551e+00,  4.9843e-01,  1.2764e+00],\n",
      "        [-6.6077e-03, -1.0689e+00,  1.8791e+00, -4.2604e+00],\n",
      "        [ 3.8829e+00,  1.5830e+00, -4.0504e-02, -7.2968e+00],\n",
      "        [-4.3767e-01, -4.8701e+00, -1.4583e-01, -1.3166e+00],\n",
      "        [ 1.9250e+00,  6.9834e-01, -1.8429e+00, -1.4750e+00],\n",
      "        [-5.0359e+00, -9.2744e-01,  3.8436e+00, -8.0509e-01],\n",
      "        [ 2.4780e-01,  2.3296e+00, -1.7491e-01, -4.2519e+00]],\n",
      "       grad_fn=<MulBackward0>)\n"
     ]
    }
   ],
   "source": [
    "hand_dw = 2 * torch.matmul(x.T, z * d_re)\n",
    "hand_dx = torch.matmul(2 * z * d_re, W.T)\n",
    "hand_dy = -2 * z\n",
    "print(hand_dw, hand_dx, hand_dy)"
   ]
  },
  {
   "cell_type": "code",
   "execution_count": 36,
   "metadata": {},
   "outputs": [
    {
     "name": "stdout",
     "output_type": "stream",
     "text": [
      "True\n",
      "True\n",
      "True\n"
     ]
    }
   ],
   "source": [
    "print(torch.equal(W.grad, hand_dw))\n",
    "print(torch.equal(x.grad, hand_dx))\n",
    "print(torch.equal(y.grad, hand_dy))"
   ]
  },
  {
   "cell_type": "code",
   "execution_count": null,
   "metadata": {},
   "outputs": [],
   "source": []
  }
 ],
 "metadata": {
  "kernelspec": {
   "display_name": "Python 3.7.10 ('mypytorch')",
   "language": "python",
   "name": "python3"
  },
  "language_info": {
   "codemirror_mode": {
    "name": "ipython",
    "version": 3
   },
   "file_extension": ".py",
   "mimetype": "text/x-python",
   "name": "python",
   "nbconvert_exporter": "python",
   "pygments_lexer": "ipython3",
   "version": "3.7.10"
  },
  "orig_nbformat": 4,
  "vscode": {
   "interpreter": {
    "hash": "1c4893aad412a8ec9dcf3b6d2deeac67d22eaa28229f05bd97d8607eac9e94dd"
   }
  }
 },
 "nbformat": 4,
 "nbformat_minor": 2
}
